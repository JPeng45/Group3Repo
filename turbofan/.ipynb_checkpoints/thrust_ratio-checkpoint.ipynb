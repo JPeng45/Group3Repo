{
 "cells": [
  {
   "cell_type": "code",
   "execution_count": 12,
   "metadata": {},
   "outputs": [],
   "source": [
    "\n",
    "from openmdao.api import ExplicitComponent\n",
    "import numpy as np\n",
    "from lsdo_utils.comps.arithmetic_comps.power_combination_comp import PowerCombinationComp\n",
    "from lsdo_utils.comps.arithmetic_comps.linear_combination_comp import LinearCombinationComp\n",
    "\n",
    "class Thrust_Ratio(ExplicitComponent):\n",
    "\n",
    "    def initialize(self):\n",
    "        self.options.declare('e', types=float)\n",
    "        \n",
    "    def setup(self):\n",
    "        self.add_input('A')\n",
    "        self.add_input('n')\n",
    "        self.add_input('M_inf')\n",
    "        self.add_output('Thrust_Ratio')\n",
    "        \n",
    "\n",
    "    def compute(self, inputs, outputs):\n",
    "        A=inputs['A']\n",
    "        n=inputs['n']\n",
    "        M_inf=inputs['M_inf']\n",
    "        \n",
    "        #outputs['specific_fuel_consum'] = A*M_inf**(-n)\n",
    "        \n",
    "        comp = LinearPowerCombinationComp(\n",
    "            shape=shape,\n",
    "            out_name='specific_fuel_consum',\n",
    "            term_list=[\n",
    "                (1,dict(\n",
    "                    M_inf=-n,\n",
    "                    A=1.,\n",
    "                )), \n",
    "            ],\n",
    "        )\n",
    "        prob.model.add_subsystem('comp',comp,promote=['*'])\n",
    "\n",
    "    def compute_partials(self, inputs, partials):\n",
    "\n",
    "        A=inputs['A']\n",
    "        n=inputs['n']\n",
    "        M_inf=inputs['M_inf']\n",
    "\n",
    "        partials['Thrust_Ratio', 'A'] =M_inf**(-n)\n",
    "        \n",
    "        partials['Thrust_Ratio', 'n'] =-np.log(M_inf)*A*M_inf**(-n)\n",
    "        \n",
    "        partials['Thrust_Ratio', 'M_inf'] =A*M_inf**(-n-1)\n",
    "\n",
    "\n",
    "\n",
    "\n"
   ]
  }
 ],
 "metadata": {
  "kernelspec": {
   "display_name": "Python 3",
   "language": "python",
   "name": "python3"
  },
  "language_info": {
   "codemirror_mode": {
    "name": "ipython",
    "version": 3
   },
   "file_extension": ".py",
   "mimetype": "text/x-python",
   "name": "python",
   "nbconvert_exporter": "python",
   "pygments_lexer": "ipython3",
   "version": "3.7.4"
  }
 },
 "nbformat": 4,
 "nbformat_minor": 2
}
