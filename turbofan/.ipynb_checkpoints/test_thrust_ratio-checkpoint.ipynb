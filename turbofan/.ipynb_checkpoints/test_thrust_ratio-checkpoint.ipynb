{
 "cells": [
  {
   "cell_type": "code",
   "execution_count": null,
   "metadata": {},
   "outputs": [],
   "source": [
    "import unittest\n",
    "\n",
    "from turbofan.thrust_ratio import Thrust_Ratio\n",
    "from openmdao.api import Problem\n",
    "from openmdao.utils.assert_utils import assert_check_partials\n",
    "\n",
    "\n",
    "class TestThrustRatio(unittest.TestCase):\n",
    "\n",
    "    def test_component_and_derivatives(self):\n",
    "        prob = Problem()\n",
    "        prob.model = Thrust_Ratio(e=0.5)\n",
    "        prob.setup()\n",
    "        prob.run_model()\n",
    "\n",
    "        data = prob.check_partials(out_stream=None)\n",
    "        assert_check_partials(data, atol=1.e-3, rtol=1.e-3)\n",
    "\n",
    "\n",
    "if __name__ == '__main__':\n",
    "    unittest.main()"
   ]
  }
 ],
 "metadata": {
  "kernelspec": {
   "display_name": "Python 3",
   "language": "python",
   "name": "python3"
  },
  "language_info": {
   "codemirror_mode": {
    "name": "ipython",
    "version": 3
   },
   "file_extension": ".py",
   "mimetype": "text/x-python",
   "name": "python",
   "nbconvert_exporter": "python",
   "pygments_lexer": "ipython3",
   "version": "3.7.4"
  }
 },
 "nbformat": 4,
 "nbformat_minor": 2
}
